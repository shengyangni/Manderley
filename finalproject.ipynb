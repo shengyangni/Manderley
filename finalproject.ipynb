{
  "nbformat": 4,
  "nbformat_minor": 0,
  "metadata": {
    "kernelspec": {
      "display_name": "Python 3",
      "language": "python",
      "name": "python3"
    },
    "language_info": {
      "codemirror_mode": {
        "name": "ipython",
        "version": 3
      },
      "file_extension": ".py",
      "mimetype": "text/x-python",
      "name": "python",
      "nbconvert_exporter": "python",
      "pygments_lexer": "ipython3",
      "version": "3.7.3"
    },
    "colab": {
      "name": "finalproject.ipynb",
      "provenance": []
    }
  },
  "cells": [
    {
      "cell_type": "code",
      "metadata": {
        "id": "ytpIrXQAq_pH",
        "colab_type": "code",
        "colab": {
          "base_uri": "https://localhost:8080/",
          "height": 122
        },
        "outputId": "d75d92eb-db1f-4ac7-cfb7-80f762018439"
      },
      "source": [
        "from google.colab import drive\n",
        "drive.mount('/content/gdrive')"
      ],
      "execution_count": 1,
      "outputs": [
        {
          "output_type": "stream",
          "text": [
            "Go to this URL in a browser: https://accounts.google.com/o/oauth2/auth?client_id=947318989803-6bn6qk8qdgf4n4g3pfee6491hc0brc4i.apps.googleusercontent.com&redirect_uri=urn%3aietf%3awg%3aoauth%3a2.0%3aoob&response_type=code&scope=email%20https%3a%2f%2fwww.googleapis.com%2fauth%2fdocs.test%20https%3a%2f%2fwww.googleapis.com%2fauth%2fdrive%20https%3a%2f%2fwww.googleapis.com%2fauth%2fdrive.photos.readonly%20https%3a%2f%2fwww.googleapis.com%2fauth%2fpeopleapi.readonly\n",
            "\n",
            "Enter your authorization code:\n",
            "··········\n",
            "Mounted at /content/gdrive\n"
          ],
          "name": "stdout"
        }
      ]
    },
    {
      "cell_type": "code",
      "metadata": {
        "id": "PIfNO1DArBd_",
        "colab_type": "code",
        "colab": {}
      },
      "source": [
        "!wget -q https://archive.apache.org/dist/spark/spark-2.2.3/spark-2.2.3-bin-hadoop2.7.tgz\n",
        "!tar xf spark-2.2.3-bin-hadoop2.7.tgz\n",
        "!pip install -q findspark"
      ],
      "execution_count": 0,
      "outputs": []
    },
    {
      "cell_type": "code",
      "metadata": {
        "id": "iKTGURjprBnX",
        "colab_type": "code",
        "colab": {
          "base_uri": "https://localhost:8080/",
          "height": 34
        },
        "outputId": "335ce3fe-c584-4f24-8917-5abbde8f5c1e"
      },
      "source": [
        "!ls"
      ],
      "execution_count": 3,
      "outputs": [
        {
          "output_type": "stream",
          "text": [
            "gdrive\tsample_data  spark-2.2.3-bin-hadoop2.7\tspark-2.2.3-bin-hadoop2.7.tgz\n"
          ],
          "name": "stdout"
        }
      ]
    },
    {
      "cell_type": "code",
      "metadata": {
        "id": "sl0wv3D9rBqm",
        "colab_type": "code",
        "colab": {
          "base_uri": "https://localhost:8080/",
          "height": 68
        },
        "outputId": "47daad3a-4d3b-4505-cefc-40b583b72d34"
      },
      "source": [
        "import os       #importing os to set environment variable\n",
        "def install_java():\n",
        "  !apt-get install -y openjdk-8-jdk-headless -qq > /dev/null      #install openjdk\n",
        "  os.environ[\"JAVA_HOME\"] = \"/usr/lib/jvm/java-8-openjdk-amd64\"     #set environment variable\n",
        "  !java -version       #check java version\n",
        "install_java()"
      ],
      "execution_count": 4,
      "outputs": [
        {
          "output_type": "stream",
          "text": [
            "openjdk version \"11.0.4\" 2019-07-16\n",
            "OpenJDK Runtime Environment (build 11.0.4+11-post-Ubuntu-1ubuntu218.04.3)\n",
            "OpenJDK 64-Bit Server VM (build 11.0.4+11-post-Ubuntu-1ubuntu218.04.3, mixed mode, sharing)\n"
          ],
          "name": "stdout"
        }
      ]
    },
    {
      "cell_type": "code",
      "metadata": {
        "id": "8gee3U3trBtD",
        "colab_type": "code",
        "colab": {
          "base_uri": "https://localhost:8080/",
          "height": 187
        },
        "outputId": "629873cc-689c-4952-9f66-6cf954e508ae"
      },
      "source": [
        "!update-alternatives --config java"
      ],
      "execution_count": 5,
      "outputs": [
        {
          "output_type": "stream",
          "text": [
            "There are 2 choices for the alternative java (providing /usr/bin/java).\n",
            "\n",
            "  Selection    Path                                            Priority   Status\n",
            "------------------------------------------------------------\n",
            "* 0            /usr/lib/jvm/java-11-openjdk-amd64/bin/java      1111      auto mode\n",
            "  1            /usr/lib/jvm/java-11-openjdk-amd64/bin/java      1111      manual mode\n",
            "  2            /usr/lib/jvm/java-8-openjdk-amd64/jre/bin/java   1081      manual mode\n",
            "\n",
            "Press <enter> to keep the current choice[*], or type selection number: 2\n",
            "update-alternatives: using /usr/lib/jvm/java-8-openjdk-amd64/jre/bin/java to provide /usr/bin/java (java) in manual mode\n"
          ],
          "name": "stdout"
        }
      ]
    },
    {
      "cell_type": "code",
      "metadata": {
        "id": "vgoadunorI88",
        "colab_type": "code",
        "colab": {
          "base_uri": "https://localhost:8080/",
          "height": 68
        },
        "outputId": "3ab3749c-49c1-49c9-e857-24f1a605aeb8"
      },
      "source": [
        "!java -version"
      ],
      "execution_count": 6,
      "outputs": [
        {
          "output_type": "stream",
          "text": [
            "openjdk version \"1.8.0_222\"\n",
            "OpenJDK Runtime Environment (build 1.8.0_222-8u222-b10-1ubuntu1~18.04.1-b10)\n",
            "OpenJDK 64-Bit Server VM (build 25.222-b10, mixed mode)\n"
          ],
          "name": "stdout"
        }
      ]
    },
    {
      "cell_type": "code",
      "metadata": {
        "id": "3c1jYRGHrJCO",
        "colab_type": "code",
        "colab": {}
      },
      "source": [
        "import os\n",
        "os.environ[\"JAVA_HOME\"] = \"/usr/lib/jvm/java-8-openjdk-amd64\"\n",
        "os.environ[\"SPARK_HOME\"] = \"/content/spark-2.2.3-bin-hadoop2.7\""
      ],
      "execution_count": 0,
      "outputs": []
    },
    {
      "cell_type": "code",
      "metadata": {
        "id": "tcSj6OolrJAc",
        "colab_type": "code",
        "colab": {}
      },
      "source": [
        "import findspark\n",
        "findspark.init()"
      ],
      "execution_count": 0,
      "outputs": []
    },
    {
      "cell_type": "code",
      "metadata": {
        "id": "FewXSp-Hq7Ng",
        "colab_type": "code",
        "colab": {}
      },
      "source": [
        "import os\n",
        "import pandas as pd\n",
        "import numpy as np\n",
        "import seaborn as sns\n",
        "import matplotlib.pyplot as plt\n",
        "import warnings\n",
        "warnings.filterwarnings(\"ignore\")\n",
        "\n",
        "training_features = pd.read_csv(\"/content/gdrive/My Drive/project/training_features.csv\",header =0)\n",
        "training_labels = pd.read_csv(\"/content/gdrive/My Drive/project/training_labels.csv\",header =0)\n",
        "testing = pd.read_csv(\"/content/gdrive/My Drive/project/test_features.csv\",header =0)\n",
        "training = pd.concat([training_features,training_labels],axis = 1)"
      ],
      "execution_count": 0,
      "outputs": []
    },
    {
      "cell_type": "code",
      "metadata": {
        "id": "RB2EkmGXq7Nj",
        "colab_type": "code",
        "colab": {
          "base_uri": "https://localhost:8080/",
          "height": 34
        },
        "outputId": "09e56f4c-5830-4525-a1c9-934bb9374f9a"
      },
      "source": [
        "from sklearn.cluster import KMeans\n",
        "X = pd.concat([training, testing],axis = 0)\n",
        "X = X[['latitude', 'longitude']].values\n",
        "Ks = range(1, 10)\n",
        "kmean = [KMeans(n_clusters=i).fit(X) for i in Ks]\n",
        "X.shape"
      ],
      "execution_count": 10,
      "outputs": [
        {
          "output_type": "execute_result",
          "data": {
            "text/plain": [
              "(414, 2)"
            ]
          },
          "metadata": {
            "tags": []
          },
          "execution_count": 10
        }
      ]
    },
    {
      "cell_type": "code",
      "metadata": {
        "id": "8yiJF6KNq7Nm",
        "colab_type": "code",
        "colab": {
          "base_uri": "https://localhost:8080/",
          "height": 513
        },
        "outputId": "8d86e90c-da0e-4410-f86a-b6932fa1d076"
      },
      "source": [
        "from scipy.spatial.distance import cdist, pdist\n",
        "def plot_elbow(kmean, X):\n",
        "    centroids = [k.cluster_centers_ for k in kmean]\n",
        "    D_k = [cdist(X, center, 'euclidean') for center in centroids]\n",
        "    dist = [np.min(D,axis=1) for D in D_k]\n",
        "\n",
        "    # Total with-in sum of square\n",
        "    wcss = [sum(d**2) for d in dist]\n",
        "    tss = sum(pdist(X)**2)/X.shape[0]\n",
        "    bss = tss-wcss\n",
        "\n",
        "    plt.subplots(nrows=1, ncols=1, figsize=(8,8))\n",
        "    ax = plt.subplot(1, 1, 1)\n",
        "    ax.plot(Ks, bss/tss*100, 'b*-')\n",
        "    plt.grid(True)\n",
        "    plt.xlabel('Number of clusters')\n",
        "    plt.ylabel('Percentage of variance explained (%)')\n",
        "    plt.title('Elbow for KMeans clustering')\n",
        "    plt.show()\n",
        "\n",
        "plot_elbow(kmean, X)"
      ],
      "execution_count": 11,
      "outputs": [
        {
          "output_type": "display_data",
          "data": {
            "image/png": "[encoded data removed]",
            "text/plain": [
              "<Figure size 576x576 with 1 Axes>"
            ]
          },
          "metadata": {
            "tags": []
          }
        }
      ]
    },
    {
      "cell_type": "code",
      "metadata": {
        "id": "hUlJJXBYq7Np",
        "colab_type": "code",
        "colab": {
          "base_uri": "https://localhost:8080/",
          "height": 68
        },
        "outputId": "28c43313-5f91-4a46-9a21-08a1d95f22b5"
      },
      "source": [
        "kmeans = KMeans(n_clusters=4)\n",
        "kmeans.fit(X)"
      ],
      "execution_count": 12,
      "outputs": [
        {
          "output_type": "execute_result",
          "data": {
            "text/plain": [
              "KMeans(algorithm='auto', copy_x=True, init='k-means++', max_iter=300,\n",
              "       n_clusters=4, n_init=10, n_jobs=None, precompute_distances='auto',\n",
              "       random_state=None, tol=0.0001, verbose=0)"
            ]
          },
          "metadata": {
            "tags": []
          },
          "execution_count": 12
        }
      ]
    },
    {
      "cell_type": "code",
      "metadata": {
        "id": "Zwrzp6o2q7Nr",
        "colab_type": "code",
        "colab": {
          "base_uri": "https://localhost:8080/",
          "height": 34
        },
        "outputId": "de87f55c-2d36-459d-df87-a58397128a87"
      },
      "source": [
        "kmeans.labels_.shape"
      ],
      "execution_count": 13,
      "outputs": [
        {
          "output_type": "execute_result",
          "data": {
            "text/plain": [
              "(414,)"
            ]
          },
          "metadata": {
            "tags": []
          },
          "execution_count": 13
        }
      ]
    },
    {
      "cell_type": "code",
      "metadata": {
        "id": "Am1shd3jq7Nt",
        "colab_type": "code",
        "colab": {
          "base_uri": "https://localhost:8080/",
          "height": 204
        },
        "outputId": "c23858de-e9d4-46dd-f36c-8b5c070728ae"
      },
      "source": [
        "dff = pd.concat((training, pd.DataFrame(kmeans.labels_)), axis=1)\n",
        "dff = dff.drop([\"latitude\",\"longitude\"],axis = 1)\n",
        "dff.columns = ['trans_date','house_age','distance_mrt','stores','house_price','dist']\n",
        "df = dff.iloc[:289,:]\n",
        "df.head()"
      ],
      "execution_count": 14,
      "outputs": [
        {
          "output_type": "execute_result",
          "data": {
            "text/html": [
              "<div>\n",
              "<style scoped>\n",
              "    .dataframe tbody tr th:only-of-type {\n",
              "        vertical-align: middle;\n",
              "    }\n",
              "\n",
              "    .dataframe tbody tr th {\n",
              "        vertical-align: top;\n",
              "    }\n",
              "\n",
              "    .dataframe thead th {\n",
              "        text-align: right;\n",
              "    }\n",
              "</style>\n",
              "<table border=\"1\" class=\"dataframe\">\n",
              "  <thead>\n",
              "    <tr style=\"text-align: right;\">\n",
              "      <th></th>\n",
              "      <th>trans_date</th>\n",
              "      <th>house_age</th>\n",
              "      <th>distance_mrt</th>\n",
              "      <th>stores</th>\n",
              "      <th>house_price</th>\n",
              "      <th>dist</th>\n",
              "    </tr>\n",
              "  </thead>\n",
              "  <tbody>\n",
              "    <tr>\n",
              "      <th>0</th>\n",
              "      <td>2013.500000</td>\n",
              "      <td>26.4</td>\n",
              "      <td>335.52730</td>\n",
              "      <td>6.0</td>\n",
              "      <td>38.1</td>\n",
              "      <td>2</td>\n",
              "    </tr>\n",
              "    <tr>\n",
              "      <th>1</th>\n",
              "      <td>2013.416667</td>\n",
              "      <td>6.4</td>\n",
              "      <td>90.45606</td>\n",
              "      <td>9.0</td>\n",
              "      <td>59.5</td>\n",
              "      <td>2</td>\n",
              "    </tr>\n",
              "    <tr>\n",
              "      <th>2</th>\n",
              "      <td>2013.333333</td>\n",
              "      <td>3.9</td>\n",
              "      <td>49.66105</td>\n",
              "      <td>8.0</td>\n",
              "      <td>56.8</td>\n",
              "      <td>0</td>\n",
              "    </tr>\n",
              "    <tr>\n",
              "      <th>3</th>\n",
              "      <td>2013.500000</td>\n",
              "      <td>23.0</td>\n",
              "      <td>3947.94500</td>\n",
              "      <td>0.0</td>\n",
              "      <td>25.3</td>\n",
              "      <td>1</td>\n",
              "    </tr>\n",
              "    <tr>\n",
              "      <th>4</th>\n",
              "      <td>2013.333333</td>\n",
              "      <td>39.7</td>\n",
              "      <td>333.36790</td>\n",
              "      <td>9.0</td>\n",
              "      <td>32.4</td>\n",
              "      <td>2</td>\n",
              "    </tr>\n",
              "  </tbody>\n",
              "</table>\n",
              "</div>"
            ],
            "text/plain": [
              "    trans_date  house_age  distance_mrt  stores  house_price  dist\n",
              "0  2013.500000       26.4     335.52730     6.0         38.1     2\n",
              "1  2013.416667        6.4      90.45606     9.0         59.5     2\n",
              "2  2013.333333        3.9      49.66105     8.0         56.8     0\n",
              "3  2013.500000       23.0    3947.94500     0.0         25.3     1\n",
              "4  2013.333333       39.7     333.36790     9.0         32.4     2"
            ]
          },
          "metadata": {
            "tags": []
          },
          "execution_count": 14
        }
      ]
    },
    {
      "cell_type": "code",
      "metadata": {
        "id": "yakOJvOJq7Nv",
        "colab_type": "code",
        "colab": {
          "base_uri": "https://localhost:8080/",
          "height": 204
        },
        "outputId": "a8acd88f-7690-4546-cd41-4cf492bf6540"
      },
      "source": [
        "rows = pd.DataFrame(kmeans.labels_).iloc[290:,:]\n",
        "testing.reset_index(drop=True, inplace=True)\n",
        "rows.reset_index(drop=True, inplace=True)\n",
        "dff1 = pd.concat([testing,rows], axis=1)\n",
        "df1 = dff1.drop([\"latitude\",\"longitude\"],axis = 1)\n",
        "df1.columns = ['trans_date','house_age','distance_mrt','stores','dist']\n",
        "df1.head()"
      ],
      "execution_count": 15,
      "outputs": [
        {
          "output_type": "execute_result",
          "data": {
            "text/html": [
              "<div>\n",
              "<style scoped>\n",
              "    .dataframe tbody tr th:only-of-type {\n",
              "        vertical-align: middle;\n",
              "    }\n",
              "\n",
              "    .dataframe tbody tr th {\n",
              "        vertical-align: top;\n",
              "    }\n",
              "\n",
              "    .dataframe thead th {\n",
              "        text-align: right;\n",
              "    }\n",
              "</style>\n",
              "<table border=\"1\" class=\"dataframe\">\n",
              "  <thead>\n",
              "    <tr style=\"text-align: right;\">\n",
              "      <th></th>\n",
              "      <th>trans_date</th>\n",
              "      <th>house_age</th>\n",
              "      <th>distance_mrt</th>\n",
              "      <th>stores</th>\n",
              "      <th>dist</th>\n",
              "    </tr>\n",
              "  </thead>\n",
              "  <tbody>\n",
              "    <tr>\n",
              "      <th>0</th>\n",
              "      <td>2012.833333</td>\n",
              "      <td>10.3</td>\n",
              "      <td>211.4473</td>\n",
              "      <td>1</td>\n",
              "      <td>1.0</td>\n",
              "    </tr>\n",
              "    <tr>\n",
              "      <th>1</th>\n",
              "      <td>2013.333333</td>\n",
              "      <td>24.0</td>\n",
              "      <td>4527.6870</td>\n",
              "      <td>0</td>\n",
              "      <td>2.0</td>\n",
              "    </tr>\n",
              "    <tr>\n",
              "      <th>2</th>\n",
              "      <td>2013.333333</td>\n",
              "      <td>34.5</td>\n",
              "      <td>324.9419</td>\n",
              "      <td>6</td>\n",
              "      <td>1.0</td>\n",
              "    </tr>\n",
              "    <tr>\n",
              "      <th>3</th>\n",
              "      <td>2013.333333</td>\n",
              "      <td>25.6</td>\n",
              "      <td>4519.6900</td>\n",
              "      <td>0</td>\n",
              "      <td>2.0</td>\n",
              "    </tr>\n",
              "    <tr>\n",
              "      <th>4</th>\n",
              "      <td>2013.500000</td>\n",
              "      <td>14.4</td>\n",
              "      <td>169.9803</td>\n",
              "      <td>1</td>\n",
              "      <td>0.0</td>\n",
              "    </tr>\n",
              "  </tbody>\n",
              "</table>\n",
              "</div>"
            ],
            "text/plain": [
              "    trans_date  house_age  distance_mrt  stores  dist\n",
              "0  2012.833333       10.3      211.4473       1   1.0\n",
              "1  2013.333333       24.0     4527.6870       0   2.0\n",
              "2  2013.333333       34.5      324.9419       6   1.0\n",
              "3  2013.333333       25.6     4519.6900       0   2.0\n",
              "4  2013.500000       14.4      169.9803       1   0.0"
            ]
          },
          "metadata": {
            "tags": []
          },
          "execution_count": 15
        }
      ]
    },
    {
      "cell_type": "code",
      "metadata": {
        "id": "gHUkVPy-q7Nx",
        "colab_type": "code",
        "colab": {
          "base_uri": "https://localhost:8080/",
          "height": 513
        },
        "outputId": "6e87e6af-3700-4248-9adb-46053d2757fb"
      },
      "source": [
        "sns.factorplot(x='dist', \n",
        "               size= 7, \n",
        "               aspect= 2,\n",
        "               data=df, \n",
        "               y ='house_price',\n",
        "               kind='bar',\n",
        "               palette = \"muted\")\n",
        "plt.show()"
      ],
      "execution_count": 16,
      "outputs": [
        {
          "output_type": "display_data",
          "data": {
            "image/png": "[encoded data removed]",
            "text/plain": [
              "<Figure size 1008x504 with 1 Axes>"
            ]
          },
          "metadata": {
            "tags": []
          }
        }
      ]
    },
    {
      "cell_type": "code",
      "metadata": {
        "id": "aqZHShapq7Ny",
        "colab_type": "code",
        "colab": {
          "base_uri": "https://localhost:8080/",
          "height": 170
        },
        "outputId": "b1ff79b0-5f6b-4410-80f9-ef28268522ff"
      },
      "source": [
        "df['house_price'].describe()"
      ],
      "execution_count": 17,
      "outputs": [
        {
          "output_type": "execute_result",
          "data": {
            "text/plain": [
              "count    289.000000\n",
              "mean      38.333218\n",
              "std       13.824176\n",
              "min       11.200000\n",
              "25%       27.700000\n",
              "50%       38.600000\n",
              "75%       47.100000\n",
              "max      117.500000\n",
              "Name: house_price, dtype: float64"
            ]
          },
          "metadata": {
            "tags": []
          },
          "execution_count": 17
        }
      ]
    },
    {
      "cell_type": "code",
      "metadata": {
        "id": "_HupXi0bq7N0",
        "colab_type": "code",
        "colab": {
          "base_uri": "https://localhost:8080/",
          "height": 297
        },
        "outputId": "680173dd-7b39-4f5a-9b42-ac28ef7f83c7"
      },
      "source": [
        "#histogram\n",
        "sns.distplot(df['house_price'])"
      ],
      "execution_count": 18,
      "outputs": [
        {
          "output_type": "execute_result",
          "data": {
            "text/plain": [
              "<matplotlib.axes._subplots.AxesSubplot at 0x7fd976da1da0>"
            ]
          },
          "metadata": {
            "tags": []
          },
          "execution_count": 18
        },
        {
          "output_type": "display_data",
          "data": {
            "image/png": "[encoded data removed]",
            "text/plain": [
              "<Figure size 432x288 with 1 Axes>"
            ]
          },
          "metadata": {
            "tags": []
          }
        }
      ]
    },
    {
      "cell_type": "code",
      "metadata": {
        "id": "15xAgHsIq7N2",
        "colab_type": "code",
        "colab": {
          "base_uri": "https://localhost:8080/",
          "height": 80
        },
        "outputId": "c4891011-1c8f-449a-f3cf-9a2bda2deb6b"
      },
      "source": [
        "df.sort_values('house_price').tail(1)"
      ],
      "execution_count": 19,
      "outputs": [
        {
          "output_type": "execute_result",
          "data": {
            "text/html": [
              "<div>\n",
              "<style scoped>\n",
              "    .dataframe tbody tr th:only-of-type {\n",
              "        vertical-align: middle;\n",
              "    }\n",
              "\n",
              "    .dataframe tbody tr th {\n",
              "        vertical-align: top;\n",
              "    }\n",
              "\n",
              "    .dataframe thead th {\n",
              "        text-align: right;\n",
              "    }\n",
              "</style>\n",
              "<table border=\"1\" class=\"dataframe\">\n",
              "  <thead>\n",
              "    <tr style=\"text-align: right;\">\n",
              "      <th></th>\n",
              "      <th>trans_date</th>\n",
              "      <th>house_age</th>\n",
              "      <th>distance_mrt</th>\n",
              "      <th>stores</th>\n",
              "      <th>house_price</th>\n",
              "      <th>dist</th>\n",
              "    </tr>\n",
              "  </thead>\n",
              "  <tbody>\n",
              "    <tr>\n",
              "      <th>172</th>\n",
              "      <td>2013.333333</td>\n",
              "      <td>10.8</td>\n",
              "      <td>252.5822</td>\n",
              "      <td>1.0</td>\n",
              "      <td>117.5</td>\n",
              "      <td>2</td>\n",
              "    </tr>\n",
              "  </tbody>\n",
              "</table>\n",
              "</div>"
            ],
            "text/plain": [
              "      trans_date  house_age  distance_mrt  stores  house_price  dist\n",
              "172  2013.333333       10.8      252.5822     1.0        117.5     2"
            ]
          },
          "metadata": {
            "tags": []
          },
          "execution_count": 19
        }
      ]
    },
    {
      "cell_type": "code",
      "metadata": {
        "id": "NQfZZJBlq7N4",
        "colab_type": "code",
        "colab": {}
      },
      "source": [
        "df = df.drop(172, axis = 0)"
      ],
      "execution_count": 0,
      "outputs": []
    },
    {
      "cell_type": "code",
      "metadata": {
        "id": "KsjvtfFOq7N9",
        "colab_type": "code",
        "colab": {
          "base_uri": "https://localhost:8080/",
          "height": 297
        },
        "outputId": "f7bd43b1-4d08-4dc3-989a-77da4bf6d8a9"
      },
      "source": [
        "#histogram\n",
        "sns.distplot(df['house_price'])"
      ],
      "execution_count": 21,
      "outputs": [
        {
          "output_type": "execute_result",
          "data": {
            "text/plain": [
              "<matplotlib.axes._subplots.AxesSubplot at 0x7fd976d17128>"
            ]
          },
          "metadata": {
            "tags": []
          },
          "execution_count": 21
        },
        {
          "output_type": "display_data",
          "data": {
            "image/png": "[encoded data removed]",
            "text/plain": [
              "<Figure size 432x288 with 1 Axes>"
            ]
          },
          "metadata": {
            "tags": []
          }
        }
      ]
    },
    {
      "cell_type": "code",
      "metadata": {
        "id": "hflk3Qsnq7N-",
        "colab_type": "code",
        "colab": {
          "base_uri": "https://localhost:8080/",
          "height": 51
        },
        "outputId": "0d2b6296-26f8-45bc-d75b-f4c59487a744"
      },
      "source": [
        "#skewness and kurtosis\n",
        "print(\"Skewness: %f\" % df['house_price'].skew())\n",
        "print(\"Kurtosis: %f\" % df['house_price'].kurt())"
      ],
      "execution_count": 22,
      "outputs": [
        {
          "output_type": "stream",
          "text": [
            "Skewness: 0.123865\n",
            "Kurtosis: -0.485088\n"
          ],
          "name": "stdout"
        }
      ]
    },
    {
      "cell_type": "code",
      "metadata": {
        "id": "PLVY0Bcfq7OA",
        "colab_type": "code",
        "colab": {
          "base_uri": "https://localhost:8080/",
          "height": 653
        },
        "outputId": "08daf165-2f4d-415e-dcdd-489b1422ab8e"
      },
      "source": [
        "#correlation matrix\n",
        "%matplotlib inline\n",
        "corr = df.iloc[:,:-1].corr()\n",
        "plt.figure(figsize=(10, 10))\n",
        "sns.heatmap(corr,annot = True,\n",
        "        xticklabels=corr.columns,\n",
        "        yticklabels=corr.columns)"
      ],
      "execution_count": 23,
      "outputs": [
        {
          "output_type": "execute_result",
          "data": {
            "text/plain": [
              "<matplotlib.axes._subplots.AxesSubplot at 0x7fd976cb5048>"
            ]
          },
          "metadata": {
            "tags": []
          },
          "execution_count": 23
        },
        {
          "output_type": "display_data",
          "data": {
            "image/png": "[encoded data removed]",
            "text/plain": [
              "<Figure size 720x720 with 2 Axes>"
            ]
          },
          "metadata": {
            "tags": []
          }
        }
      ]
    },
    {
      "cell_type": "code",
      "metadata": {
        "id": "I-0i-XhPq7OC",
        "colab_type": "code",
        "colab": {
          "base_uri": "https://localhost:8080/",
          "height": 170
        },
        "outputId": "7256486b-2502-44a2-c209-60bdb7703645"
      },
      "source": [
        "df['trans_date'].describe()"
      ],
      "execution_count": 24,
      "outputs": [
        {
          "output_type": "execute_result",
          "data": {
            "text/plain": [
              "count     288.000000\n",
              "mean     2013.149016\n",
              "std         0.282665\n",
              "min      2012.666667\n",
              "25%      2012.916667\n",
              "50%      2013.166667\n",
              "75%      2013.416667\n",
              "max      2013.583333\n",
              "Name: trans_date, dtype: float64"
            ]
          },
          "metadata": {
            "tags": []
          },
          "execution_count": 24
        }
      ]
    },
    {
      "cell_type": "code",
      "metadata": {
        "id": "jpR2aUnBq7OE",
        "colab_type": "code",
        "colab": {
          "base_uri": "https://localhost:8080/",
          "height": 204
        },
        "outputId": "693511f6-18b6-42b4-a179-97f5f10cf402"
      },
      "source": [
        "df = df.drop('trans_date',axis = 1)\n",
        "df1 = df1.drop(['trans_date'],axis = 1)\n",
        "df1.head()"
      ],
      "execution_count": 25,
      "outputs": [
        {
          "output_type": "execute_result",
          "data": {
            "text/html": [
              "<div>\n",
              "<style scoped>\n",
              "    .dataframe tbody tr th:only-of-type {\n",
              "        vertical-align: middle;\n",
              "    }\n",
              "\n",
              "    .dataframe tbody tr th {\n",
              "        vertical-align: top;\n",
              "    }\n",
              "\n",
              "    .dataframe thead th {\n",
              "        text-align: right;\n",
              "    }\n",
              "</style>\n",
              "<table border=\"1\" class=\"dataframe\">\n",
              "  <thead>\n",
              "    <tr style=\"text-align: right;\">\n",
              "      <th></th>\n",
              "      <th>house_age</th>\n",
              "      <th>distance_mrt</th>\n",
              "      <th>stores</th>\n",
              "      <th>dist</th>\n",
              "    </tr>\n",
              "  </thead>\n",
              "  <tbody>\n",
              "    <tr>\n",
              "      <th>0</th>\n",
              "      <td>10.3</td>\n",
              "      <td>211.4473</td>\n",
              "      <td>1</td>\n",
              "      <td>1.0</td>\n",
              "    </tr>\n",
              "    <tr>\n",
              "      <th>1</th>\n",
              "      <td>24.0</td>\n",
              "      <td>4527.6870</td>\n",
              "      <td>0</td>\n",
              "      <td>2.0</td>\n",
              "    </tr>\n",
              "    <tr>\n",
              "      <th>2</th>\n",
              "      <td>34.5</td>\n",
              "      <td>324.9419</td>\n",
              "      <td>6</td>\n",
              "      <td>1.0</td>\n",
              "    </tr>\n",
              "    <tr>\n",
              "      <th>3</th>\n",
              "      <td>25.6</td>\n",
              "      <td>4519.6900</td>\n",
              "      <td>0</td>\n",
              "      <td>2.0</td>\n",
              "    </tr>\n",
              "    <tr>\n",
              "      <th>4</th>\n",
              "      <td>14.4</td>\n",
              "      <td>169.9803</td>\n",
              "      <td>1</td>\n",
              "      <td>0.0</td>\n",
              "    </tr>\n",
              "  </tbody>\n",
              "</table>\n",
              "</div>"
            ],
            "text/plain": [
              "   house_age  distance_mrt  stores  dist\n",
              "0       10.3      211.4473       1   1.0\n",
              "1       24.0     4527.6870       0   2.0\n",
              "2       34.5      324.9419       6   1.0\n",
              "3       25.6     4519.6900       0   2.0\n",
              "4       14.4      169.9803       1   0.0"
            ]
          },
          "metadata": {
            "tags": []
          },
          "execution_count": 25
        }
      ]
    },
    {
      "cell_type": "code",
      "metadata": {
        "id": "d7DvvNVvq7OG",
        "colab_type": "code",
        "colab": {
          "base_uri": "https://localhost:8080/",
          "height": 170
        },
        "outputId": "5b57ebb8-3b08-47ca-cd10-5ca289cc6719"
      },
      "source": [
        "df1.info()"
      ],
      "execution_count": 26,
      "outputs": [
        {
          "output_type": "stream",
          "text": [
            "<class 'pandas.core.frame.DataFrame'>\n",
            "RangeIndex: 125 entries, 0 to 124\n",
            "Data columns (total 4 columns):\n",
            "house_age       125 non-null float64\n",
            "distance_mrt    125 non-null float64\n",
            "stores          125 non-null int64\n",
            "dist            124 non-null float64\n",
            "dtypes: float64(3), int64(1)\n",
            "memory usage: 4.0 KB\n"
          ],
          "name": "stdout"
        }
      ]
    },
    {
      "cell_type": "code",
      "metadata": {
        "id": "5vYvGc-Nq7OI",
        "colab_type": "code",
        "colab": {
          "base_uri": "https://localhost:8080/",
          "height": 187
        },
        "outputId": "e48224c8-7214-4d31-f83e-eca3e478b3ff"
      },
      "source": [
        "df.info()"
      ],
      "execution_count": 27,
      "outputs": [
        {
          "output_type": "stream",
          "text": [
            "<class 'pandas.core.frame.DataFrame'>\n",
            "Int64Index: 288 entries, 0 to 288\n",
            "Data columns (total 5 columns):\n",
            "house_age       288 non-null float64\n",
            "distance_mrt    288 non-null float64\n",
            "stores          288 non-null float64\n",
            "house_price     288 non-null float64\n",
            "dist            288 non-null int32\n",
            "dtypes: float64(4), int32(1)\n",
            "memory usage: 12.4 KB\n"
          ],
          "name": "stdout"
        }
      ]
    },
    {
      "cell_type": "code",
      "metadata": {
        "id": "vsk3rOlxq7OK",
        "colab_type": "code",
        "colab": {
          "base_uri": "https://localhost:8080/",
          "height": 119
        },
        "outputId": "478dfee0-c32b-42e6-d39e-db4c16539a67"
      },
      "source": [
        "df.astype({'stores': 'int64','dist': 'float64'}).dtypes"
      ],
      "execution_count": 28,
      "outputs": [
        {
          "output_type": "execute_result",
          "data": {
            "text/plain": [
              "house_age       float64\n",
              "distance_mrt    float64\n",
              "stores            int64\n",
              "house_price     float64\n",
              "dist            float64\n",
              "dtype: object"
            ]
          },
          "metadata": {
            "tags": []
          },
          "execution_count": 28
        }
      ]
    },
    {
      "cell_type": "code",
      "metadata": {
        "id": "7xY3Xk0Dq7ON",
        "colab_type": "code",
        "colab": {}
      },
      "source": [
        "from pyspark.conf import SparkConf\n",
        "from pyspark.context import SparkContext\n",
        "from pyspark.sql import SparkSession\n",
        "conf = SparkConf().setAppName(\"MLlib\")\n",
        "sc = SparkContext(conf=conf)\n",
        "sc.setLogLevel(\"WARN\")\n",
        "spark = SparkSession(sc)"
      ],
      "execution_count": 0,
      "outputs": []
    },
    {
      "cell_type": "code",
      "metadata": {
        "id": "jXQ15M8Aq7OP",
        "colab_type": "code",
        "colab": {}
      },
      "source": [
        "df = spark.createDataFrame(df)\n",
        "df1 = spark.createDataFrame(df1)"
      ],
      "execution_count": 0,
      "outputs": []
    },
    {
      "cell_type": "code",
      "metadata": {
        "id": "qz3JZZ7fq7OS",
        "colab_type": "code",
        "colab": {
          "base_uri": "https://localhost:8080/",
          "height": 170
        },
        "outputId": "5874539b-4521-4b00-d9e7-bb510541d060"
      },
      "source": [
        "from pyspark.ml.feature import VectorAssembler\n",
        "vectorAssembler = VectorAssembler(inputCols = ['house_age', 'distance_mrt', 'stores', 'dist'], outputCol = 'features')\n",
        "vhouse_df = vectorAssembler.transform(df)\n",
        "vhouse_df = vhouse_df.select(['features', 'house_price'])\n",
        "vhouse_df.show(3)"
      ],
      "execution_count": 31,
      "outputs": [
        {
          "output_type": "stream",
          "text": [
            "+--------------------+-----------+\n",
            "|            features|house_price|\n",
            "+--------------------+-----------+\n",
            "|[26.4,335.5273,6....|       38.1|\n",
            "|[6.4,90.45606,9.0...|       59.5|\n",
            "|[3.9,49.66105,8.0...|       56.8|\n",
            "+--------------------+-----------+\n",
            "only showing top 3 rows\n",
            "\n"
          ],
          "name": "stdout"
        }
      ]
    },
    {
      "cell_type": "code",
      "metadata": {
        "id": "vgGJmvdAq7OU",
        "colab_type": "code",
        "colab": {
          "base_uri": "https://localhost:8080/",
          "height": 170
        },
        "outputId": "713e1007-e811-451a-faba-cc092808ae3e"
      },
      "source": [
        "df1 = vectorAssembler.transform(df1)\n",
        "df1 = df1.select('features')\n",
        "df1.show(3)"
      ],
      "execution_count": 32,
      "outputs": [
        {
          "output_type": "stream",
          "text": [
            "+--------------------+\n",
            "|            features|\n",
            "+--------------------+\n",
            "|[10.3,211.4473,1....|\n",
            "|[24.0,4527.687,0....|\n",
            "|[34.5,324.9419,6....|\n",
            "+--------------------+\n",
            "only showing top 3 rows\n",
            "\n"
          ],
          "name": "stdout"
        }
      ]
    },
    {
      "cell_type": "code",
      "metadata": {
        "id": "0us8jhAgq7OV",
        "colab_type": "code",
        "colab": {}
      },
      "source": [
        "splits = vhouse_df.randomSplit([0.7, 0.3])\n",
        "train_df = splits[0]\n",
        "test_df = splits[1]"
      ],
      "execution_count": 0,
      "outputs": []
    },
    {
      "cell_type": "code",
      "metadata": {
        "id": "4nx8Z1W6q7OX",
        "colab_type": "code",
        "colab": {
          "base_uri": "https://localhost:8080/",
          "height": 85
        },
        "outputId": "003eba4d-dc95-47e1-ec2d-57b322b91555"
      },
      "source": [
        "from pyspark.ml.regression import LinearRegression\n",
        "from pyspark.ml.evaluation import RegressionEvaluator\n",
        "lr = LinearRegression(featuresCol = 'features', labelCol='house_price', maxIter=10, regParam=0.3, elasticNetParam=0.8)\n",
        "lr_model = lr.fit(train_df)\n",
        "trainingSummary = lr_model.summary\n",
        "print(\"RMSE: %f\" % trainingSummary.rootMeanSquaredError)\n",
        "print(\"r2: %f\" % trainingSummary.r2)\n",
        "lr_predictions = lr_model.transform(test_df)\n",
        "lr_evaluator = RegressionEvaluator(predictionCol=\"prediction\", \\\n",
        "                 labelCol=\"house_price\",metricName=\"r2\")\n",
        "print(\"R Squared (R2) on test data = %g\" % lr_evaluator.evaluate(lr_predictions))\n",
        "test_result = lr_model.evaluate(test_df)\n",
        "print(\"Root Mean Squared Error (RMSE) on test data = %g\" % test_result.rootMeanSquaredError)"
      ],
      "execution_count": 34,
      "outputs": [
        {
          "output_type": "stream",
          "text": [
            "RMSE: 8.014455\n",
            "r2: 0.625725\n",
            "R Squared (R2) on test data = 0.510601\n",
            "Root Mean Squared Error (RMSE) on test data = 8.83879\n"
          ],
          "name": "stdout"
        }
      ]
    },
    {
      "cell_type": "code",
      "metadata": {
        "id": "TcDHqQ3Zq7Oa",
        "colab_type": "code",
        "colab": {
          "base_uri": "https://localhost:8080/",
          "height": 459
        },
        "outputId": "4d51f1ae-6b7e-47e2-9a43-e14c12dd8411"
      },
      "source": [
        "predictions = lr_model.transform(test_df)\n",
        "predictions.select(\"prediction\",\"house_price\",\"features\").show()"
      ],
      "execution_count": 35,
      "outputs": [
        {
          "output_type": "stream",
          "text": [
            "+------------------+-----------+--------------------+\n",
            "|        prediction|house_price|            features|\n",
            "+------------------+-----------+--------------------+\n",
            "|  49.3505180923011|       73.6|[0.0,292.9978,6.0...|\n",
            "| 48.16419457295713|       45.4|[2.3,184.3302,6.0...|\n",
            "| 44.78317958811956|       53.9|[2.7,533.4762,4.0...|\n",
            "| 36.03365342811806|       28.4|[4.0,2147.376,3.0...|\n",
            "| 35.87886893359153|       28.6|[4.0,2180.245,3.0...|\n",
            "|  48.1534183611875|       63.2|[5.3,259.6607,6.0...|\n",
            "| 52.91454500164515|       52.7|[5.9,90.45606,9.0...|\n",
            "| 52.83789847876825|       58.0|[6.2,90.45606,9.0...|\n",
            "| 52.61907926893826|       49.8|[7.1,379.5575,10....|\n",
            "|45.418811406711114|       57.1|[7.1,451.2438,5.0...|\n",
            "|33.593383092598366|       38.5|[9.0,1402.016,0.0...|\n",
            "| 35.50197489676242|       43.5|[10.0,942.4664,0....|\n",
            "|  35.2786687431959|       27.3|[10.4,2251.938,4....|\n",
            "|  34.9199643963286|       28.8|[11.0,1712.632,2....|\n",
            "| 49.56094794318227|       55.9|[11.6,201.8939,8....|\n",
            "| 42.63353267489866|       42.5|[12.9,492.2313,5....|\n",
            "| 35.72260800143489|       39.0|[13.0,732.8528,0....|\n",
            "| 42.55688615202176|       42.3|[13.2,492.2313,5....|\n",
            "|19.733247614340343|       27.3|[13.9,4079.417999...|\n",
            "| 33.95317892496334|       30.5|[14.7,1717.193,2....|\n",
            "+------------------+-----------+--------------------+\n",
            "only showing top 20 rows\n",
            "\n"
          ],
          "name": "stdout"
        }
      ]
    },
    {
      "cell_type": "code",
      "metadata": {
        "id": "rmT0ZI5tq7Oc",
        "colab_type": "code",
        "colab": {
          "base_uri": "https://localhost:8080/",
          "height": 51
        },
        "outputId": "146e9d31-b93f-469e-c3e0-99e0f853d7e4"
      },
      "source": [
        "from pyspark.ml.regression import GBTRegressor\n",
        "gbt = GBTRegressor(featuresCol = 'features', labelCol = 'house_price', maxIter=10)\n",
        "gbt_model = gbt.fit(train_df)\n",
        "gbt_evaluator = RegressionEvaluator(\n",
        "    labelCol=\"house_price\", predictionCol=\"prediction\", metricName=\"rmse\")\n",
        "training_result = gbt_evaluator.evaluate(gbt_model.transform(train_df))\n",
        "gbt_predictions = gbt_model.transform(test_df)\n",
        "rmse = gbt_evaluator.evaluate(gbt_predictions)\n",
        "print(\"Root Mean Squared Error (RMSE) on train data = %g\" % training_result)\n",
        "print(\"Root Mean Squared Error (RMSE) on test data = %g\" % rmse)"
      ],
      "execution_count": 36,
      "outputs": [
        {
          "output_type": "stream",
          "text": [
            "Root Mean Squared Error (RMSE) on train data = 3.83219\n",
            "Root Mean Squared Error (RMSE) on test data = 6.67121\n"
          ],
          "name": "stdout"
        }
      ]
    },
    {
      "cell_type": "code",
      "metadata": {
        "id": "6WCVX_Ebq7Of",
        "colab_type": "code",
        "colab": {
          "base_uri": "https://localhost:8080/",
          "height": 459
        },
        "outputId": "3a722b4a-e789-44a6-b844-077e7ade3e61"
      },
      "source": [
        "gbt_predictions.select('prediction', 'house_price', 'features').show()"
      ],
      "execution_count": 37,
      "outputs": [
        {
          "output_type": "stream",
          "text": [
            "+------------------+-----------+--------------------+\n",
            "|        prediction|house_price|            features|\n",
            "+------------------+-----------+--------------------+\n",
            "| 67.79284226873276|       73.6|[0.0,292.9978,6.0...|\n",
            "| 48.84405767566218|       45.4|[2.3,184.3302,6.0...|\n",
            "| 51.56841099268822|       53.9|[2.7,533.4762,4.0...|\n",
            "|27.704177919388716|       28.4|[4.0,2147.376,3.0...|\n",
            "| 25.82315126765783|       28.6|[4.0,2180.245,3.0...|\n",
            "|53.683742449577046|       63.2|[5.3,259.6607,6.0...|\n",
            "| 58.34380631546664|       52.7|[5.9,90.45606,9.0...|\n",
            "| 58.34380631546664|       58.0|[6.2,90.45606,9.0...|\n",
            "| 62.73805911107387|       49.8|[7.1,379.5575,10....|\n",
            "| 52.04241849271367|       57.1|[7.1,451.2438,5.0...|\n",
            "|41.627768379560216|       38.5|[9.0,1402.016,0.0...|\n",
            "|41.627768379560216|       43.5|[10.0,942.4664,0....|\n",
            "| 25.16796944577128|       27.3|[10.4,2251.938,4....|\n",
            "| 25.16796944577128|       28.8|[11.0,1712.632,2....|\n",
            "|44.363217544864334|       55.9|[11.6,201.8939,8....|\n",
            "|40.128508411405136|       42.5|[12.9,492.2313,5....|\n",
            "|  45.7534766921481|       39.0|[13.0,732.8528,0....|\n",
            "|  39.3051308384684|       42.3|[13.2,492.2313,5....|\n",
            "|16.309133798248503|       27.3|[13.9,4079.417999...|\n",
            "|25.714102742347883|       30.5|[14.7,1717.193,2....|\n",
            "+------------------+-----------+--------------------+\n",
            "only showing top 20 rows\n",
            "\n"
          ],
          "name": "stdout"
        }
      ]
    },
    {
      "cell_type": "code",
      "metadata": {
        "id": "ToOIanvUq7Oh",
        "colab_type": "code",
        "colab": {
          "base_uri": "https://localhost:8080/",
          "height": 51
        },
        "outputId": "c09d8938-ebac-4c02-c2f5-0453af05d805"
      },
      "source": [
        "from pyspark.ml.regression import RandomForestRegressor\n",
        "rf = RandomForestRegressor(featuresCol ='features', labelCol = 'house_price')\n",
        "rf_model = rf.fit(train_df)\n",
        "rf_evaluator = RegressionEvaluator(\n",
        "    labelCol=\"house_price\", predictionCol=\"prediction\", metricName=\"rmse\")\n",
        "training_result = rf_evaluator.evaluate(rf_model.transform(train_df))\n",
        "testing_result = rf_evaluator.evaluate(rf_model.transform(test_df))\n",
        "print(\"Root Mean Squared Error (RMSE) on train data = %g\" % training_result)\n",
        "print(\"Root Mean Squared Error (RMSE) on test data = %g\" % testing_result)"
      ],
      "execution_count": 38,
      "outputs": [
        {
          "output_type": "stream",
          "text": [
            "Root Mean Squared Error (RMSE) on train data = 4.70098\n",
            "Root Mean Squared Error (RMSE) on test data = 6.43642\n"
          ],
          "name": "stdout"
        }
      ]
    },
    {
      "cell_type": "code",
      "metadata": {
        "id": "cP6qZ_t1q7Oi",
        "colab_type": "code",
        "colab": {
          "base_uri": "https://localhost:8080/",
          "height": 459
        },
        "outputId": "3f8e0282-1b9d-464b-da3f-4a8bba86410f"
      },
      "source": [
        "predictions = rf_model.transform(test_df)\n",
        "predictions.select(\"prediction\",\"house_price\",\"features\").show()"
      ],
      "execution_count": 39,
      "outputs": [
        {
          "output_type": "stream",
          "text": [
            "+------------------+-----------+--------------------+\n",
            "|        prediction|house_price|            features|\n",
            "+------------------+-----------+--------------------+\n",
            "| 63.27446980796982|       73.6|[0.0,292.9978,6.0...|\n",
            "| 49.65597865728601|       45.4|[2.3,184.3302,6.0...|\n",
            "| 44.36568981276721|       53.9|[2.7,533.4762,4.0...|\n",
            "| 29.05181922946082|       28.4|[4.0,2147.376,3.0...|\n",
            "| 29.59128351517511|       28.6|[4.0,2180.245,3.0...|\n",
            "| 54.25111851579351|       63.2|[5.3,259.6607,6.0...|\n",
            "|  56.1827435064935|       52.7|[5.9,90.45606,9.0...|\n",
            "|  56.1827435064935|       58.0|[6.2,90.45606,9.0...|\n",
            "|  53.3606446053946|       49.8|[7.1,379.5575,10....|\n",
            "| 47.61126071637341|       57.1|[7.1,451.2438,5.0...|\n",
            "| 41.08869607592589|       38.5|[9.0,1402.016,0.0...|\n",
            "| 40.56902940925922|       43.5|[10.0,942.4664,0....|\n",
            "|27.806374544516125|       27.3|[10.4,2251.938,4....|\n",
            "| 27.68593298607457|       28.8|[11.0,1712.632,2....|\n",
            "| 44.21320113731298|       55.9|[11.6,201.8939,8....|\n",
            "| 40.18134946124782|       42.5|[12.9,492.2313,5....|\n",
            "|  38.9978861934634|       39.0|[13.0,732.8528,0....|\n",
            "| 40.18134946124782|       42.3|[13.2,492.2313,5....|\n",
            "| 27.90271527430545|       27.3|[13.9,4079.417999...|\n",
            "|  27.6937152622779|       30.5|[14.7,1717.193,2....|\n",
            "+------------------+-----------+--------------------+\n",
            "only showing top 20 rows\n",
            "\n"
          ],
          "name": "stdout"
        }
      ]
    },
    {
      "cell_type": "code",
      "metadata": {
        "id": "Hv8lL5-Lq7On",
        "colab_type": "code",
        "colab": {}
      },
      "source": [
        "#submit the rf prediction\n",
        "rf_predictions = rf_model.transform(df1).select(\"prediction\")\n",
        "test = rf_predictions.toPandas()\n",
        "test.to_csv(\"/content/gdrive/My Drive/project/rf.csv\",index = True)"
      ],
      "execution_count": 0,
      "outputs": []
    }
  ]
}